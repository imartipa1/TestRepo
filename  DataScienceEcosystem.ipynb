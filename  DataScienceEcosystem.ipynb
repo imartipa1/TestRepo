{
 "cells": [
  {
   "cell_type": "markdown",
   "id": "8123165a-8dcb-47b9-b922-b3fc6a7a022f",
   "metadata": {},
   "source": [
    "# Data Science Tools and Ecosystem"
   ]
  },
  {
   "cell_type": "markdown",
   "id": "b58af077-0143-4df2-98ed-b0026810f235",
   "metadata": {},
   "source": [
    "In this notebook, Data Science Tools and Ecosystem are summarized."
   ]
  },
  {
   "cell_type": "markdown",
   "id": "1088ff5e-f90e-4443-84c0-e4e6e1b1a704",
   "metadata": {},
   "source": [
    "**Objectives:**\n",
    "\n",
    "- List popular languages for Data Science.\n",
    "- List comonly used libraries by Data Scientists.\n",
    "- List development environment open source tools used in data science.\n",
    "- Evaluate simple arithmetic expressions in Python using Jupyter Notebooks.\n"
   ]
  },
  {
   "cell_type": "markdown",
   "id": "c57f2644-e389-4e5d-969d-98af8e8466b2",
   "metadata": {},
   "source": [
    "Some of the popular languages that Data Scientists use are:\n",
    "1. Python\n",
    "2. R\n",
    "3. DB2\n",
    "4. Scala"
   ]
  },
  {
   "cell_type": "markdown",
   "id": "72e1f4d2-2f11-498d-b5c0-7f2b8bc721a5",
   "metadata": {},
   "source": [
    "Some of the commonly used libraries used by Data Scientists include:\n",
    "1. Pandas\n",
    "2. NumPy\n",
    "3. Matplotlib\n",
    "4. TensorFlow "
   ]
  },
  {
   "cell_type": "markdown",
   "id": "962b9740-726d-48de-be0c-739ac5cf7374",
   "metadata": {},
   "source": [
    "| Data Science Tools |\n",
    "| ------------------ |\n",
    "| Anaconda Navigator |\n",
    "| RStudio            |\n",
    "| Jupyter IDE        |"
   ]
  },
  {
   "cell_type": "markdown",
   "id": "dfd82caa-aed1-4b9d-8d2a-0177a61d667e",
   "metadata": {},
   "source": [
    "### Below are a few examples of evaluating arithmetic expressions in Python"
   ]
  },
  {
   "cell_type": "code",
   "execution_count": 5,
   "id": "fec92e91-7a14-4dce-a020-cc345568fe3b",
   "metadata": {},
   "outputs": [
    {
     "data": {
      "text/plain": [
       "5"
      ]
     },
     "execution_count": 5,
     "metadata": {},
     "output_type": "execute_result"
    }
   ],
   "source": [
    "2+3"
   ]
  },
  {
   "cell_type": "code",
   "execution_count": 6,
   "id": "b32dfc20-29a9-4cfa-b9fe-0d29ea0e200f",
   "metadata": {},
   "outputs": [
    {
     "data": {
      "text/plain": [
       "31"
      ]
     },
     "execution_count": 6,
     "metadata": {},
     "output_type": "execute_result"
    }
   ],
   "source": [
    "8*5-9"
   ]
  },
  {
   "cell_type": "code",
   "execution_count": 7,
   "id": "0c3742a5-deba-45c1-b37d-3678d102b8b9",
   "metadata": {},
   "outputs": [
    {
     "data": {
      "text/plain": [
       "8"
      ]
     },
     "execution_count": 7,
     "metadata": {},
     "output_type": "execute_result"
    }
   ],
   "source": [
    "2**3"
   ]
  },
  {
   "cell_type": "code",
   "execution_count": 9,
   "id": "9b9aa9b6-a6fa-4da8-8f6c-2d6a71806e3f",
   "metadata": {},
   "outputs": [
    {
     "data": {
      "text/plain": [
       "17"
      ]
     },
     "execution_count": 9,
     "metadata": {},
     "output_type": "execute_result"
    }
   ],
   "source": [
    "#This a simple arithmetic expression to mutiply then add integers\n",
    "(3*4)+5"
   ]
  },
  {
   "cell_type": "code",
   "execution_count": 10,
   "id": "0ba10fac-792f-4e06-8dfe-8ae56e4f9b97",
   "metadata": {},
   "outputs": [
    {
     "data": {
      "text/plain": [
       "3.3333333333333335"
      ]
     },
     "execution_count": 10,
     "metadata": {},
     "output_type": "execute_result"
    }
   ],
   "source": [
    "#This will convert 200 minutes to hours by diving by 60\n",
    "200/60"
   ]
  },
  {
   "cell_type": "markdown",
   "id": "881f7595-808d-4993-966e-2c6e81c13692",
   "metadata": {},
   "source": [
    "## Author\n",
    "Ivan"
   ]
  },
  {
   "cell_type": "code",
   "execution_count": null,
   "id": "db314260-40e2-451e-89ad-712c82c42499",
   "metadata": {},
   "outputs": [],
   "source": []
  }
 ],
 "metadata": {
  "kernelspec": {
   "display_name": "Python 3 (ipykernel)",
   "language": "python",
   "name": "python3"
  },
  "language_info": {
   "codemirror_mode": {
    "name": "ipython",
    "version": 3
   },
   "file_extension": ".py",
   "mimetype": "text/x-python",
   "name": "python",
   "nbconvert_exporter": "python",
   "pygments_lexer": "ipython3",
   "version": "3.13.5"
  }
 },
 "nbformat": 4,
 "nbformat_minor": 5
}
